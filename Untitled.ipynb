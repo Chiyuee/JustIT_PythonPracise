{
 "cells": [
  {
   "cell_type": "code",
   "execution_count": 1,
   "id": "26bda4f5-5e03-43c9-a818-624aebb2d468",
   "metadata": {},
   "outputs": [
    {
     "name": "stdout",
     "output_type": "stream",
     "text": [
      "HeIIo, world!\n",
      "What is your name?\n"
     ]
    },
    {
     "name": "stdin",
     "output_type": "stream",
     "text": [
      " Chi\n"
     ]
    },
    {
     "name": "stdout",
     "output_type": "stream",
     "text": [
      "lt is good to meet you, Chi\n",
      "The length of your name is:\n",
      "3\n",
      "What is your age?\n"
     ]
    },
    {
     "name": "stdin",
     "output_type": "stream",
     "text": [
      " 21\n"
     ]
    },
    {
     "name": "stdout",
     "output_type": "stream",
     "text": [
      "You will be 22 in a year.\n"
     ]
    }
   ],
   "source": [
    "# This program says hello and asks for my name.\n",
    "print('Hello, world!')\n",
    "print('What is your name?') # ask for their name\n",
    "myName = input()\n",
    "print('lt is good to meet you, ' + myName)\n",
    "print('The length of your name is:')\n",
    "print(len(myName))\n",
    "print('What is your age?') # ask for their age\n",
    "myAge = input()\n",
    "print('You will be ' + str(int(myAge) + 1) + ' in a year.')"
   ]
  },
  {
   "cell_type": "code",
   "execution_count": null,
   "id": "e97e39c8-770e-481b-8d20-723517d40c20",
   "metadata": {},
   "outputs": [],
   "source": [
    "number_1 = int(input(\"What is your first number?\"))\n",
    "number_2 = int(input(\"What is your second number?\"))\n",
    "\n",
    "while True:\n",
    "    operation = input(\"What operation would you like to perform?\")\n",
    "    if operation == \"+\":\n",
    "        answer = number_1 + number_2\n",
    "        print(f\"Your answer is: {answer}\")\n",
    "        break\n",
    "    elif operation == \"*\":\n",
    "        answer = number_1 * number_2\n",
    "        print(f\"Your answer is: {answer}\")\n",
    "        break\n",
    "    elif operation == \"-\":\n",
    "        answer = number_1 - number_2\n",
    "        print(f\"Your answer is: {answer}\")\n",
    "        break\n",
    "    elif operation == \"/\":\n",
    "        answer = number_1 / number_2\n",
    "        print(f\"Your answer is: {answer}\")\n",
    "        break\n",
    "    else:\n",
    "        print(\"Give a valid operator\")\n"
   ]
  },
  {
   "cell_type": "code",
   "execution_count": null,
   "id": "d1eb33e8-26f0-421f-9f1d-f5b3eff2837e",
   "metadata": {},
   "outputs": [],
   "source": [
    "print(sep=\"&\", \"fish\", \"chips\")"
   ]
  },
  {
   "cell_type": "code",
   "execution_count": null,
   "id": "f1ab5101-0307-4505-9247-0d673f3b388d",
   "metadata": {},
   "outputs": [],
   "source": [
    "print(sep=\"&\", \"fish\", \"chips\")"
   ]
  },
  {
   "cell_type": "code",
   "execution_count": null,
   "id": "9e36f00a-0eed-4fee-a6b5-4fc775aaa0d9",
   "metadata": {},
   "outputs": [],
   "source": []
  }
 ],
 "metadata": {
  "kernelspec": {
   "display_name": "Python 3 (ipykernel)",
   "language": "python",
   "name": "python3"
  },
  "language_info": {
   "codemirror_mode": {
    "name": "ipython",
    "version": 3
   },
   "file_extension": ".py",
   "mimetype": "text/x-python",
   "name": "python",
   "nbconvert_exporter": "python",
   "pygments_lexer": "ipython3",
   "version": "3.11.9"
  }
 },
 "nbformat": 4,
 "nbformat_minor": 5
}
