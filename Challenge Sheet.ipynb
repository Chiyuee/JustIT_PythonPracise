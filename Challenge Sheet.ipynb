{
 "cells": [
  {
   "cell_type": "code",
   "execution_count": 3,
   "metadata": {},
   "outputs": [
    {
     "name": "stdout",
     "output_type": "stream",
     "text": [
      "It is divisible by 6\n",
      "It is divisible by 3\n"
     ]
    }
   ],
   "source": [
    "# Write a program that will tell whether the given number is divisible by 3 & 6\n",
    "\n",
    "number = int(input(\"What is your number: \"))\n",
    "\n",
    "if number % 6 == 0:\n",
    "    print(\"It is divisible by 6\")\n",
    "if number % 3 == 0:\n",
    "    print(\"It is divisible by 3\")"
   ]
  },
  {
   "cell_type": "code",
   "execution_count": 5,
   "metadata": {},
   "outputs": [
    {
     "name": "stdout",
     "output_type": "stream",
     "text": [
      "55\n"
     ]
    }
   ],
   "source": [
    "'''\n",
    "Write a program to accept a number from a user and calculate the sum of all numbers from 1 to a given number.\n",
    "For example, if the user entered 10 the output should be 55 (1+2+3+4+5+6+7+8+9+10)\n",
    "'''\n",
    "\n",
    "number = int(input(\"What is your number: \"))\n",
    "total = 0\n",
    "for i in range(1, number+1):\n",
    "    total = total + i\n",
    "print(total)"
   ]
  },
  {
   "cell_type": "code",
   "execution_count": 8,
   "metadata": {},
   "outputs": [
    {
     "name": "stdout",
     "output_type": "stream",
     "text": [
      "Please provide a valid operation\n",
      "Please provide a valid operation\n",
      "Please provide a valid operation\n",
      "Please provide a valid operation\n",
      "Please provide a valid operation\n",
      "Your total is : 15.0\n"
     ]
    }
   ],
   "source": [
    "'''\n",
    "Create a basic calculator using Python that can perform the following operations:\n",
    "Addition\n",
    "Subtraction\n",
    "Multiplication\n",
    "Division\n",
    "Use conditional statements and loops \n",
    "'''\n",
    "\n",
    "number_1 = float(input(\"What is your first number: \"))\n",
    "number_2 = float(input(\"What is your second number: \"))\n",
    "\n",
    "while True:\n",
    "    operation = input(\"What is the operation: \")\n",
    "    \n",
    "    if operation == '+':\n",
    "        total = number_1 + number_2\n",
    "        print(f\"Your total is : {total}\")\n",
    "        break\n",
    "        \n",
    "    elif operation == '-':\n",
    "        total = number_1 - number_2\n",
    "        print(f\"Your total is : {total}\")\n",
    "        break\n",
    "\n",
    "    elif operation == '*':\n",
    "        total = number_1 * number_2\n",
    "        print(f\"Your total is : {total}\")\n",
    "        break\n",
    "\n",
    "    elif operation == '/':\n",
    "        total = number_1 / number_2\n",
    "        print(f\"Your total is : {total}\")\n",
    "        break\n",
    "    \n",
    "    else:\n",
    "        print(\"Please provide a valid operation\")"
   ]
  },
  {
   "cell_type": "code",
   "execution_count": 31,
   "metadata": {},
   "outputs": [
    {
     "name": "stdout",
     "output_type": "stream",
     "text": [
      "0.27522935779816515\n"
     ]
    }
   ],
   "source": [
    "'''\n",
    "Your task is to complete the code in order to evaluate the following expression:\n",
    "The result should be assigned to y. Be careful ‒ watch the operators and keep their priorities in mind. Don't hesitate to use as \n",
    "many parentheses as you need\n",
    "'''\n",
    "\n",
    "x = int(input(\"What is X:\"))\n",
    "for i in range(2):\n",
    "    x += 1/x\n",
    "x = 1/x\n",
    "print(x)"
   ]
  },
  {
   "cell_type": "code",
   "execution_count": 18,
   "metadata": {},
   "outputs": [
    {
     "name": "stdout",
     "output_type": "stream",
     "text": [
      "1\n",
      "3\n",
      "5\n",
      "7\n",
      "9\n",
      "11\n",
      "13\n",
      "15\n",
      "17\n"
     ]
    }
   ],
   "source": [
    "'''\n",
    "Print the sum of the current number and the previous number\n",
    "Write a program to iterate the first 10 numbers and in each iteration, print the sum of the current and previous number.\n",
    "Expected result: 0,1,3,5,7,9,11,13,15,17\n",
    "'''\n",
    "\n",
    "for i in range(1, number):\n",
    "    total = i + (i-1)\n",
    "    print(total)"
   ]
  },
  {
   "cell_type": "code",
   "execution_count": 19,
   "metadata": {},
   "outputs": [
    {
     "name": "stdout",
     "output_type": "stream",
     "text": [
      "120\n"
     ]
    }
   ],
   "source": [
    "number = int(input(\"Enter your number: \"))\n",
    "total = 1\n",
    "for i in range(1, number+1):\n",
    "    total = total * i\n",
    "print(total)"
   ]
  },
  {
   "cell_type": "code",
   "execution_count": 24,
   "metadata": {},
   "outputs": [
    {
     "name": "stdout",
     "output_type": "stream",
     "text": [
      "1 \n",
      "1 2 \n",
      "1 2 3 \n",
      "1 2 3 4 \n",
      "1 2 3 4 5 \n"
     ]
    }
   ],
   "source": [
    "'''\n",
    "Write a program to print the following number pattern using a loop. (Use nested for loops)\n",
    "'''\n",
    "\n",
    "for i in range(1, 6):\n",
    "    for j in range(1, i+1):\n",
    "        print(j, end=' ')\n",
    "    print()"
   ]
  },
  {
   "cell_type": "code",
   "execution_count": 33,
   "metadata": {},
   "outputs": [
    {
     "name": "stdout",
     "output_type": "stream",
     "text": [
      "[30, 40, 50, 60, 70]\n"
     ]
    }
   ],
   "source": [
    "nums = [10, 20, 30, 40, 50, 60, 70, 80, 90]\n",
    "\n",
    "\n",
    "some_nums = nums[2:7]\n",
    "\n",
    "\n",
    "print(some_nums)"
   ]
  },
  {
   "cell_type": "code",
   "execution_count": 38,
   "metadata": {},
   "outputs": [
    {
     "name": "stdout",
     "output_type": "stream",
     "text": [
      "[1, 2, 3, 4, 5, 5.0, 6, 7, 8, 9, 10]\n"
     ]
    },
    {
     "ename": "ValueError",
     "evalue": "list.remove(x): x not in list",
     "output_type": "error",
     "traceback": [
      "\u001b[1;31m---------------------------------------------------------------------------\u001b[0m",
      "\u001b[1;31mValueError\u001b[0m                                Traceback (most recent call last)",
      "Cell \u001b[1;32mIn[38], line 12\u001b[0m\n\u001b[0;32m      9\u001b[0m numbers\u001b[38;5;241m.\u001b[39minsert(\u001b[38;5;241m5\u001b[39m,(\u001b[38;5;28mlen\u001b[39m(numbers)\u001b[38;5;241m/\u001b[39m\u001b[38;5;241m2\u001b[39m))\n\u001b[0;32m     10\u001b[0m \u001b[38;5;28mprint\u001b[39m(numbers)\n\u001b[1;32m---> 12\u001b[0m \u001b[43mnumbers\u001b[49m\u001b[38;5;241;43m.\u001b[39;49m\u001b[43mremove\u001b[49m\u001b[43m(\u001b[49m\u001b[38;5;241;43m-\u001b[39;49m\u001b[38;5;241;43m1\u001b[39;49m\u001b[43m)\u001b[49m\n\u001b[0;32m     13\u001b[0m \u001b[38;5;28mprint\u001b[39m(numbers)\n",
      "\u001b[1;31mValueError\u001b[0m: list.remove(x): x not in list"
     ]
    }
   ],
   "source": [
    "'''\n",
    "•write a line of code that prompts the user to replace the middle number in the list with an integer number entered by the user (Step 1)\n",
    "•write a line of code that removes the last element from the list (Step 2)\n",
    "•write a line of code that prints the length of the existing list (Step 3).\n",
    "'''\n",
    "\n",
    "numbers = [1,2,3,4,5,6,7,8,9,10]\n",
    "\n",
    "numbers.insert(5,(len(numbers)/2))\n",
    "print(numbers)\n",
    "\n",
    "numbers.pop()\n",
    "print(numbers)"
   ]
  }
 ],
 "metadata": {
  "kernelspec": {
   "display_name": "Python 3",
   "language": "python",
   "name": "python3"
  },
  "language_info": {
   "codemirror_mode": {
    "name": "ipython",
    "version": 3
   },
   "file_extension": ".py",
   "mimetype": "text/x-python",
   "name": "python",
   "nbconvert_exporter": "python",
   "pygments_lexer": "ipython3",
   "version": "3.11.5"
  }
 },
 "nbformat": 4,
 "nbformat_minor": 2
}
